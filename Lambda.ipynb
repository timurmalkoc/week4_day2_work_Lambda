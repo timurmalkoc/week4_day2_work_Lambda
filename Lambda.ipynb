{
 "cells": [
  {
   "cell_type": "markdown",
   "id": "de88d90e",
   "metadata": {},
   "source": [
    "### Exercise #1 <br>\n",
    "<p>Filter out all of the empty strings from the list below</p>\n",
    "\n",
    "`Output: ['Argentina', 'San Diego', 'Boston', 'New York']`"
   ]
  },
  {
   "cell_type": "code",
   "execution_count": 7,
   "id": "975c9f04",
   "metadata": {},
   "outputs": [],
   "source": [
    "places = [\" \",\"Argentina\", \" \", \"San Diego\",\"\",\"  \",\"\",\"Boston\",\"New York\"]"
   ]
  },
  {
   "cell_type": "code",
   "execution_count": 22,
   "id": "6032e052",
   "metadata": {},
   "outputs": [
    {
     "data": {
      "text/plain": [
       "['Argentina', 'San Diego', 'Boston', 'New York']"
      ]
     },
     "execution_count": 22,
     "metadata": {},
     "output_type": "execute_result"
    }
   ],
   "source": [
    "list(filter(lambda place: False if place.strip()==\"\" else True,places)) "
   ]
  },
  {
   "cell_type": "markdown",
   "id": "a20d018d",
   "metadata": {},
   "source": [
    "### Exercise #2 <br>\n",
    "<p>Write an anonymous function that sorts this list by the last name...<br><b>Hint: Use the \".sort()\" method or the \"sorted()\" function and access the key\"</b></p>\n",
    "\n",
    "`Output: ['Victor aNisimov', 'Gary A.J. Bernstein', 'Joel Carter', 'Andrew P. Garfield', 'David hassELHOFF']`"
   ]
  },
  {
   "cell_type": "code",
   "execution_count": 43,
   "id": "8701f764",
   "metadata": {},
   "outputs": [
    {
     "name": "stdout",
     "output_type": "stream",
     "text": [
      "['Victor aNisimov', 'Gary A.J. Bernstein', 'Joel Carter', 'Andrew P. Garfield', 'David hassELHOFF']\n"
     ]
    }
   ],
   "source": [
    "author = [\"Joel Carter\", \"Victor aNisimov\", \"Andrew P. Garfield\",\"David hassELHOFF\",\"Gary A.J. Bernstein\"]\n",
    "\n",
    "print(sorted(author, key=lambda last : last.split(\" \")[-1].lower()))"
   ]
  },
  {
   "cell_type": "code",
   "execution_count": null,
   "id": "0ab869fe",
   "metadata": {},
   "outputs": [],
   "source": []
  },
  {
   "cell_type": "markdown",
   "id": "0de11428",
   "metadata": {},
   "source": [
    "### Exercise #3 <br>\n",
    "<p>Convert the list below from Celsius to Farhenheit, using the map function with a lambda...</p>\n",
    "\n",
    "`Output: [('Nashua', 89.6), ('Boston', 53.6), ('Los Angeles', 111.2), ('Miami', 84.2)]"
   ]
  },
  {
   "cell_type": "code",
   "execution_count": 57,
   "id": "5a018cd0",
   "metadata": {},
   "outputs": [],
   "source": [
    "import itertools\n",
    "places = [('Nashua',32),(\"Boston\",12),(\"Los Angeles\",44),(\"Miami\",29)]\n"
   ]
  },
  {
   "cell_type": "code",
   "execution_count": 58,
   "id": "7507c345",
   "metadata": {},
   "outputs": [
    {
     "data": {
      "text/plain": [
       "[('Nashua', 89.6), ('Boston', 53.6), ('Los Angeles', 111.2), ('Miami', 84.2)]"
      ]
     },
     "execution_count": 58,
     "metadata": {},
     "output_type": "execute_result"
    }
   ],
   "source": [
    "list(itertools.starmap(lambda place,f:(place,(9/5)*f+32), places))"
   ]
  },
  {
   "cell_type": "markdown",
   "id": "98691b15",
   "metadata": {},
   "source": [
    "### Exercise #4\n",
    "Write a recursion function to perform the fibonacci sequence up to the number passed in.\n",
    "\n",
    "Output for fib(5) => \n",
    "Iteration 0: 1\n",
    "Iteration 1: 1\n",
    "Iteration 2: 2\n",
    "Iteration 3: 3\n",
    "Iteration 4: 5\n",
    "Iteration 5: 8"
   ]
  },
  {
   "cell_type": "code",
   "execution_count": 11,
   "id": "a1e32ea6",
   "metadata": {},
   "outputs": [
    {
     "name": "stdout",
     "output_type": "stream",
     "text": [
      "Iteration 0: 0\n",
      "Iteration 1: 1\n",
      "Iteration 2: 1\n",
      "Iteration 3: 2\n",
      "Iteration 4: 3\n",
      "Iteration 5: 5\n",
      "Iteration 6: 8\n",
      "Iteration 7: 13\n",
      "Iteration 8: 21\n",
      "Iteration 9: 34\n"
     ]
    }
   ],
   "source": [
    "# recursive way \n",
    "\n",
    "def fib(n):\n",
    "    \n",
    "    if n<=1:\n",
    "        return n\n",
    "    return fib(n-1) + fib(n-2)\n",
    "\n",
    "\n",
    "num = 10\n",
    "for i in range(num):\n",
    "    print(f'Iteration {i}: {fib(i)}')"
   ]
  },
  {
   "cell_type": "code",
   "execution_count": 27,
   "id": "11402c17",
   "metadata": {},
   "outputs": [
    {
     "name": "stdout",
     "output_type": "stream",
     "text": [
      "Iteration 0 : 0\n",
      "Iteration 1 : 1\n",
      "Iteration 2 : 1\n",
      "Iteration 3 : 2\n",
      "Iteration 4 : 3\n",
      "Iteration 5 : 5\n",
      "Iteration 6 : 8\n",
      "Iteration 7 : 13\n",
      "Iteration 8 : 21\n",
      "Iteration 9 : 34\n"
     ]
    }
   ],
   "source": [
    "def fib(n):\n",
    "    c=0\n",
    "    l1 = 0\n",
    "    l2 = 1\n",
    "    while c<n:\n",
    "        if c == 0:\n",
    "            yield 0\n",
    "        elif c== 1:\n",
    "            yield 1\n",
    "        else:\n",
    "            yield l1+l2\n",
    "            l2, l1 = l1+l2, l2\n",
    "        c+=1\n",
    "\n",
    "x = 0\n",
    "for i in fib(10):\n",
    "    print(f'Iteration {x} : {i}')\n",
    "    x+=1"
   ]
  },
  {
   "cell_type": "markdown",
   "id": "8dcf48f4",
   "metadata": {},
   "source": [
    "### Exercise #5 <br>\n",
    "<p>Create a generator that takes a number argument and yields that number squared, then prints each number squared until zero is reached.</p>"
   ]
  },
  {
   "cell_type": "code",
   "execution_count": 14,
   "id": "0b4ade82",
   "metadata": {},
   "outputs": [
    {
     "name": "stdout",
     "output_type": "stream",
     "text": [
      "25\n",
      "16\n",
      "9\n",
      "4\n",
      "1\n",
      "0\n"
     ]
    }
   ],
   "source": [
    "def squared(n):\n",
    "    while n>=0:\n",
    "        yield n**2\n",
    "        n-=1\n",
    "        \n",
    "for s in squared(5):\n",
    "    print(s)"
   ]
  },
  {
   "cell_type": "code",
   "execution_count": 16,
   "id": "33200bfc",
   "metadata": {},
   "outputs": [
    {
     "name": "stdout",
     "output_type": "stream",
     "text": [
      "5 : 25\n",
      "4 : 16\n",
      "3 : 9\n",
      "2 : 4\n",
      "1 : 1\n",
      "0 : 0\n"
     ]
    }
   ],
   "source": [
    "# Recursion way\n",
    "\n",
    "def squared(n):\n",
    "    if n<0:\n",
    "        return\n",
    "    print(f'{n} : {n**2}')\n",
    "    return squared(n-1)\n",
    "          \n",
    "squared(5)"
   ]
  },
  {
   "cell_type": "code",
   "execution_count": null,
   "id": "7912bd64",
   "metadata": {},
   "outputs": [],
   "source": []
  }
 ],
 "metadata": {
  "kernelspec": {
   "display_name": "Python 3 (ipykernel)",
   "language": "python",
   "name": "python3"
  },
  "language_info": {
   "codemirror_mode": {
    "name": "ipython",
    "version": 3
   },
   "file_extension": ".py",
   "mimetype": "text/x-python",
   "name": "python",
   "nbconvert_exporter": "python",
   "pygments_lexer": "ipython3",
   "version": "3.9.12"
  }
 },
 "nbformat": 4,
 "nbformat_minor": 5
}
